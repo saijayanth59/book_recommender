{
 "cells": [
  {
   "cell_type": "markdown",
   "id": "4877e023",
   "metadata": {},
   "source": [
    "# Book Recommendation System (Modeling)"
   ]
  },
  {
   "cell_type": "markdown",
   "id": "091e4794",
   "metadata": {},
   "source": [
    "\n",
    "Now, it's time for us to to develop recommendation systems. In this notebook, the recommendation systems developed based on several methods: \n",
    "1. Basic Recommender\n",
    "2. Content-based Filtering\n",
    "3. Collaborative Filtering\n",
    "\n",
    "In the end, I will compare the result given by the recommendation systems and explore strengths and weakness of each model."
   ]
  },
  {
   "cell_type": "code",
   "execution_count": 4,
   "id": "f3656dbf-dd46-4baf-9ee4-5a6260c5eaf2",
   "metadata": {},
   "outputs": [],
   "source": [
    "## Import Libraries\n",
    "# !conda install -c conda-forge scikit-surprise"
   ]
  },
  {
   "cell_type": "code",
   "execution_count": 7,
   "id": "b00fdcf4-fffb-41ba-8e2f-eab5a0bf3e7b",
   "metadata": {},
   "outputs": [
    {
     "name": "stdout",
     "output_type": "stream",
     "text": [
      "Defaulting to user installation because normal site-packages is not writeable\n",
      "Requirement already satisfied: scikit-surprise in c:\\users\\dhavan\\appdata\\roaming\\python\\python312\\site-packages (1.1.4)\n",
      "Requirement already satisfied: joblib>=1.2.0 in c:\\programdata\\anaconda3\\lib\\site-packages (from scikit-surprise) (1.4.2)\n",
      "Requirement already satisfied: numpy>=1.19.5 in c:\\programdata\\anaconda3\\lib\\site-packages (from scikit-surprise) (1.26.4)\n",
      "Requirement already satisfied: scipy>=1.6.0 in c:\\programdata\\anaconda3\\lib\\site-packages (from scikit-surprise) (1.13.1)\n"
     ]
    }
   ],
   "source": [
    "!pip3 install scikit-surprise"
   ]
  },
  {
   "cell_type": "code",
   "execution_count": 8,
   "id": "9611fcbf",
   "metadata": {},
   "outputs": [],
   "source": [
    "import warnings\n",
    "warnings.filterwarnings('ignore')\n",
    "\n",
    "import pandas as pd\n",
    "import numpy as np\n",
    "import matplotlib.pyplot as plt\n",
    "import seaborn as sns\n",
    "\n",
    "#for content based filtering\n",
    "from sklearn.metrics.pairwise import linear_kernel\n",
    "from sklearn.feature_extraction.text import TfidfVectorizer\n",
    "\n",
    "#for collaborative filtering\n",
    "import os\n",
    "import math\n",
    "import random\n",
    "\n",
    "from surprise import accuracy, Reader, Dataset, dump\n",
    "from surprise import NormalPredictor, KNNBasic, SVD, SVDpp\n",
    "from surprise.model_selection import cross_validate, GridSearchCV"
   ]
  },
  {
   "cell_type": "markdown",
   "id": "d580a583",
   "metadata": {},
   "source": [
    "## Import Dataset"
   ]
  },
  {
   "cell_type": "code",
   "execution_count": 9,
   "id": "c53c55f9",
   "metadata": {},
   "outputs": [],
   "source": [
    "pd.options.display.float_format = '{:.2f}'.format\n",
    "r = pd.read_csv('data/ratings.csv')\n",
    "b = pd.read_csv('data/books_cleaned.csv')"
   ]
  },
  {
   "cell_type": "markdown",
   "id": "424d7604",
   "metadata": {},
   "source": [
    "## 1. Simple Recommendation"
   ]
  },
  {
   "cell_type": "markdown",
   "id": "801d3621",
   "metadata": {},
   "source": [
    "## Motivation for Weighted Rating\n",
    "\n",
    "A simple way to recommend books is by ranking them based on:\n",
    "- **`average_rating`** (how good people think the book is), or\n",
    "- **`ratings_count`** (how many people rated the book – a measure of popularity)\n",
    "\n",
    "However, based on our earlier analysis, we noticed:\n",
    "\n",
    "1. Some books with **high average ratings** have **very few ratings** — they may not be reliable.\n",
    "2. Some books with **many ratings** (popular) have only **average or low scores**.\n",
    "\n",
    "Because of this, it's not ideal to use just one of these metrics on its own.\n",
    "\n",
    "To solve this, we will create a **weighted rating** that combines both `average_rating` and `ratings_count`. This gives us a more balanced and fair way to rank books.\n"
   ]
  },
  {
   "cell_type": "markdown",
   "id": "1e026ac1",
   "metadata": {},
   "source": [
    "### a. Recommendation based on Weighted Average of Rating and Popularity"
   ]
  },
  {
   "cell_type": "markdown",
   "id": "1bfecaea",
   "metadata": {},
   "source": [
    "## Why We Need a Better Scoring System\n",
    "\n",
    "One of the easiest ways to recommend books is by ranking them using:\n",
    "- **`average_rating`** (how good the book is), or\n",
    "- **`ratings_count`** (how popular it is)\n",
    "\n",
    "But during the EDA, we saw two issues:\n",
    "1. Some books with **high average ratings** have **very few ratings** — they may not be trustworthy.\n",
    "2. Some books with **many ratings** have **average or even low scores**.\n",
    "\n",
    "So, to get a better measure, we need a **new score** that combines both `average_rating` and `ratings_count`.\n",
    "\n",
    "### IMDB-Style Weighted Rating\n",
    "\n",
    "To do this, we’ll use a scoring method similar to what IMDB uses for its **Top 250 Movies** list.\n",
    "\n",
    "The **new rating score** is calculated using this formula:\n",
    "\n",
    "![New Rating Formula](img/new_rating_score.png \"New Rating Score\")\n"
   ]
  },
  {
   "cell_type": "markdown",
   "id": "31b8164b",
   "metadata": {},
   "source": [
    "where:<br>\n",
    "v = number of ratings (`ratings_count`)<br>\n",
    "m = minimum `ratings_count` required to be recommended<br>\n",
    "R = average of ratings (`average_rating`) <br>\n",
    "C = the mean ratings for all books"
   ]
  },
  {
   "cell_type": "markdown",
   "id": "323146d3",
   "metadata": {},
   "source": [
    "## Setting the Minimum Votes Threshold (m)\n",
    "\n",
    "To apply the weighted rating formula, we need to set a value for **`m`**,  \n",
    "which is the **minimum number of ratings** a book must have to be included in the recommendation list.\n",
    "\n",
    "For this simple recommender system, we’ll use the **95th percentile** as our cutoff.  \n",
    "This means a book must have **more ratings than 95%** of all books in the dataset.\n",
    "\n",
    "In our case, that turns out to be around **2,100 ratings**.  \n",
    "So, only books with **at least 2,100 ratings** will be considered in the final recommendation chart.\n"
   ]
  },
  {
   "cell_type": "code",
   "execution_count": 10,
   "id": "ee158878",
   "metadata": {},
   "outputs": [],
   "source": [
    "def simple_recommender(books, n=5):\n",
    "    v = books['ratings_count']\n",
    "    m = books['ratings_count'].quantile(0.95)\n",
    "    R = books['average_rating']\n",
    "    C = books['average_rating'].median()\n",
    "    score = (v/(v+m) * R) + (m/(m+v) * C)   \n",
    "    books['score'] = score\n",
    "    \n",
    "    qualified  = books.sort_values('score', ascending=False)\n",
    "    return qualified[['book_id', 'title', 'authors', 'average_rating', 'ratings_count','score']].head(n)"
   ]
  },
  {
   "cell_type": "code",
   "execution_count": 11,
   "id": "9f81d94e",
   "metadata": {},
   "outputs": [
    {
     "data": {
      "text/html": [
       "<div>\n",
       "<style scoped>\n",
       "    .dataframe tbody tr th:only-of-type {\n",
       "        vertical-align: middle;\n",
       "    }\n",
       "\n",
       "    .dataframe tbody tr th {\n",
       "        vertical-align: top;\n",
       "    }\n",
       "\n",
       "    .dataframe thead th {\n",
       "        text-align: right;\n",
       "    }\n",
       "</style>\n",
       "<table border=\"1\" class=\"dataframe\">\n",
       "  <thead>\n",
       "    <tr style=\"text-align: right;\">\n",
       "      <th></th>\n",
       "      <th>book_id</th>\n",
       "      <th>title</th>\n",
       "      <th>authors</th>\n",
       "      <th>average_rating</th>\n",
       "      <th>ratings_count</th>\n",
       "      <th>score</th>\n",
       "    </tr>\n",
       "  </thead>\n",
       "  <tbody>\n",
       "    <tr>\n",
       "      <th>21</th>\n",
       "      <td>25</td>\n",
       "      <td>Harry Potter and the Deathly Hallows (Harry Po...</td>\n",
       "      <td>J.K. Rowling</td>\n",
       "      <td>4.61</td>\n",
       "      <td>1746574</td>\n",
       "      <td>4.56</td>\n",
       "    </tr>\n",
       "    <tr>\n",
       "      <th>23</th>\n",
       "      <td>27</td>\n",
       "      <td>Harry Potter and the Half-Blood Prince (Harry ...</td>\n",
       "      <td>J.K. Rowling</td>\n",
       "      <td>4.54</td>\n",
       "      <td>1678823</td>\n",
       "      <td>4.49</td>\n",
       "    </tr>\n",
       "    <tr>\n",
       "      <th>15</th>\n",
       "      <td>18</td>\n",
       "      <td>Harry Potter and the Prisoner of Azkaban (Harr...</td>\n",
       "      <td>J.K. Rowling</td>\n",
       "      <td>4.53</td>\n",
       "      <td>1832823</td>\n",
       "      <td>4.49</td>\n",
       "    </tr>\n",
       "    <tr>\n",
       "      <th>20</th>\n",
       "      <td>24</td>\n",
       "      <td>Harry Potter and the Goblet of Fire (Harry Pot...</td>\n",
       "      <td>J.K. Rowling</td>\n",
       "      <td>4.53</td>\n",
       "      <td>1753043</td>\n",
       "      <td>4.48</td>\n",
       "    </tr>\n",
       "    <tr>\n",
       "      <th>1</th>\n",
       "      <td>2</td>\n",
       "      <td>Harry Potter and the Sorcerer's Stone (Harry P...</td>\n",
       "      <td>J.K. Rowling</td>\n",
       "      <td>4.44</td>\n",
       "      <td>4602479</td>\n",
       "      <td>4.43</td>\n",
       "    </tr>\n",
       "  </tbody>\n",
       "</table>\n",
       "</div>"
      ],
      "text/plain": [
       "    book_id                                              title       authors  \\\n",
       "21       25  Harry Potter and the Deathly Hallows (Harry Po...  J.K. Rowling   \n",
       "23       27  Harry Potter and the Half-Blood Prince (Harry ...  J.K. Rowling   \n",
       "15       18  Harry Potter and the Prisoner of Azkaban (Harr...  J.K. Rowling   \n",
       "20       24  Harry Potter and the Goblet of Fire (Harry Pot...  J.K. Rowling   \n",
       "1         2  Harry Potter and the Sorcerer's Stone (Harry P...  J.K. Rowling   \n",
       "\n",
       "    average_rating  ratings_count  score  \n",
       "21            4.61        1746574   4.56  \n",
       "23            4.54        1678823   4.49  \n",
       "15            4.53        1832823   4.49  \n",
       "20            4.53        1753043   4.48  \n",
       "1             4.44        4602479   4.43  "
      ]
     },
     "execution_count": 11,
     "metadata": {},
     "output_type": "execute_result"
    }
   ],
   "source": [
    "simple_recommender(b)"
   ]
  },
  {
   "cell_type": "markdown",
   "id": "ddc2ccc3",
   "metadata": {},
   "source": [
    "### b. Evaluation"
   ]
  },
  {
   "cell_type": "markdown",
   "id": "f266c14c",
   "metadata": {},
   "source": [
    "## Limitations of the Simple Recommender\n",
    "\n",
    "The current system gives **general recommendations** to all users based only on:\n",
    "- **Popularity** (`ratings_count`)\n",
    "- **Average rating**\n",
    "\n",
    "However, this approach has some **limitations**:\n",
    "- It shows the **same suggestions to everyone**, no matter what their\n"
   ]
  },
  {
   "cell_type": "markdown",
   "id": "12c9a7ae",
   "metadata": {},
   "source": [
    "## 2. Content Based Recommendation System"
   ]
  },
  {
   "cell_type": "markdown",
   "id": "efc586f9",
   "metadata": {},
   "source": [
    "### a. Recommendation based on Cosine Similarity"
   ]
  },
  {
   "cell_type": "markdown",
   "id": "71a79368",
   "metadata": {},
   "source": [
    "## Building a Content-Based Recommender\n",
    "\n",
    "To make our recommendations more **personalized**, we’ll use **cosine similarity** to compare books based on their content.\n",
    "\n",
    "### Steps:\n",
    "\n",
    "1. **Create a new column** that combines useful information from each book —  \n",
    "   including **authors**, **title**, **genres**, and **description**.\n",
    "\n",
    "2. Use **`TFIDFVectorizer`** to convert this text data into **numerical vectors**.\n",
    "\n",
    "3. Compute the **cosine similarity scores** between all books.\n",
    "\n",
    "4. Take a user's **favorite book as input**, and find books that are **most similar** to it.\n",
    "\n",
    "5. **Recommend** the top similar books to the user.\n",
    "\n",
    "> 💡 Since we’re using `TFIDFVectorizer`, the dot product gives us the cosine similarity directly.  \n",
    "> That’s why we’ll use `sklearn`'s `linear_kernel` — it’s faster than `cosine_similarity`.\n"
   ]
  },
  {
   "cell_type": "code",
   "execution_count": 12,
   "id": "9c8867be",
   "metadata": {},
   "outputs": [],
   "source": [
    "def content(books):\n",
    "    books['content'] = (pd.Series(books[['authors', 'title', 'genres', 'description']]\n",
    "                                  .fillna('')\n",
    "                                  .values.tolist()\n",
    "                                  ).str.join(' '))\n",
    "\n",
    "    tf_content = TfidfVectorizer(analyzer='word', ngram_range=(\n",
    "        1, 2), min_df=1, stop_words='english')\n",
    "    tfidf_matrix = tf_content.fit_transform(books['content'])\n",
    "    cosine = linear_kernel(tfidf_matrix, tfidf_matrix)\n",
    "    index = pd.Series(books.index, index=books['title'])\n",
    "\n",
    "    return cosine, index"
   ]
  },
  {
   "cell_type": "code",
   "execution_count": 13,
   "id": "bffbc48b",
   "metadata": {},
   "outputs": [],
   "source": [
    "def content_recommendation(books, title, n=5):\n",
    "    cosine_sim, indices = content(books)\n",
    "    idx = indices[title]\n",
    "    sim_scores = list(enumerate(cosine_sim[idx]))\n",
    "    sim_scores = sorted(sim_scores, key=lambda x: x[1], reverse=True)\n",
    "    sim_scores = sim_scores[1:n + 1]\n",
    "    book_indices = [i[0] for i in sim_scores]\n",
    "    return books[['book_id', 'title', 'authors', 'average_rating', 'ratings_count']].iloc[book_indices]"
   ]
  },
  {
   "cell_type": "code",
   "execution_count": 14,
   "id": "7c96f73f",
   "metadata": {},
   "outputs": [
    {
     "data": {
      "text/html": [
       "<div>\n",
       "<style scoped>\n",
       "    .dataframe tbody tr th:only-of-type {\n",
       "        vertical-align: middle;\n",
       "    }\n",
       "\n",
       "    .dataframe tbody tr th {\n",
       "        vertical-align: top;\n",
       "    }\n",
       "\n",
       "    .dataframe thead th {\n",
       "        text-align: right;\n",
       "    }\n",
       "</style>\n",
       "<table border=\"1\" class=\"dataframe\">\n",
       "  <thead>\n",
       "    <tr style=\"text-align: right;\">\n",
       "      <th></th>\n",
       "      <th>book_id</th>\n",
       "      <th>title</th>\n",
       "      <th>authors</th>\n",
       "      <th>average_rating</th>\n",
       "      <th>ratings_count</th>\n",
       "    </tr>\n",
       "  </thead>\n",
       "  <tbody>\n",
       "    <tr>\n",
       "      <th>795</th>\n",
       "      <td>846</td>\n",
       "      <td>Animal Farm / 1984</td>\n",
       "      <td>George Orwell</td>\n",
       "      <td>4.26</td>\n",
       "      <td>116197</td>\n",
       "    </tr>\n",
       "    <tr>\n",
       "      <th>2048</th>\n",
       "      <td>2187</td>\n",
       "      <td>We</td>\n",
       "      <td>Yevgeny Zamyatin</td>\n",
       "      <td>3.95</td>\n",
       "      <td>40020</td>\n",
       "    </tr>\n",
       "    <tr>\n",
       "      <th>3670</th>\n",
       "      <td>4004</td>\n",
       "      <td>Homage to Catalonia</td>\n",
       "      <td>George Orwell</td>\n",
       "      <td>4.14</td>\n",
       "      <td>22227</td>\n",
       "    </tr>\n",
       "    <tr>\n",
       "      <th>6857</th>\n",
       "      <td>8056</td>\n",
       "      <td>1Q84 #1-2 (1Q84, #1-2)</td>\n",
       "      <td>Haruki Murakami</td>\n",
       "      <td>4.07</td>\n",
       "      <td>8342</td>\n",
       "    </tr>\n",
       "    <tr>\n",
       "      <th>4915</th>\n",
       "      <td>5510</td>\n",
       "      <td>The Far Side Gallery</td>\n",
       "      <td>Gary Larson</td>\n",
       "      <td>4.42</td>\n",
       "      <td>20022</td>\n",
       "    </tr>\n",
       "  </tbody>\n",
       "</table>\n",
       "</div>"
      ],
      "text/plain": [
       "      book_id                   title           authors  average_rating  \\\n",
       "795       846      Animal Farm / 1984     George Orwell            4.26   \n",
       "2048     2187                      We  Yevgeny Zamyatin            3.95   \n",
       "3670     4004     Homage to Catalonia     George Orwell            4.14   \n",
       "6857     8056  1Q84 #1-2 (1Q84, #1-2)   Haruki Murakami            4.07   \n",
       "4915     5510    The Far Side Gallery       Gary Larson            4.42   \n",
       "\n",
       "      ratings_count  \n",
       "795          116197  \n",
       "2048          40020  \n",
       "3670          22227  \n",
       "6857           8342  \n",
       "4915          20022  "
      ]
     },
     "execution_count": 14,
     "metadata": {},
     "output_type": "execute_result"
    }
   ],
   "source": [
    "content_recommendation(b, '1984')"
   ]
  },
  {
   "cell_type": "markdown",
   "id": "87d2e466",
   "metadata": {},
   "source": [
    "Notice that the system recommends a book with average_rating (3.95) lower than average and book with low `ratings_count` (8342). We will try to improve our recommendation by adding popularity-rating filter."
   ]
  },
  {
   "cell_type": "markdown",
   "id": "a873ad36",
   "metadata": {},
   "source": [
    "### b. Content Based + Popularity-Rating Filter"
   ]
  },
  {
   "cell_type": "markdown",
   "id": "46e5c001",
   "metadata": {},
   "source": [
    "The mechanism to remove books with low ratings has been added on top of the content based filtering. This system will return books that are similar to your input, are popular and have high ratings. However, in this filter, our cutoff will be the quantile 75. In order for a book to appear in the recommendation, it must be ranked in top 25 similar and receive at least 75% weight score of the other books on the list (around 800 ratings)."
   ]
  },
  {
   "cell_type": "code",
   "execution_count": 15,
   "id": "0079729e",
   "metadata": {},
   "outputs": [],
   "source": [
    "def improved_recommendation(books, title, n=5):\n",
    "    cosine_sim, indices = content(books)\n",
    "    idx = indices[title]\n",
    "    sim_scores = list(enumerate(cosine_sim[idx]))\n",
    "    sim_scores = sorted(sim_scores, key=lambda x: x[1], reverse=True)\n",
    "    sim_scores = sim_scores[1:26]\n",
    "    book_indices = [i[0] for i in sim_scores]\n",
    "    books2 = books.iloc[book_indices][['book_id', 'title', 'authors', 'average_rating', 'ratings_count']]\n",
    "\n",
    "    v = books2['ratings_count']\n",
    "    m = books2['ratings_count'].quantile(0.75) #here the minimum rating is quantile 75\n",
    "    R = books2['average_rating']\n",
    "    C = books2['average_rating'].median()\n",
    "    books2['new_score'] = (v/(v+m) * R) + (m/(m+v) * C)\n",
    "\n",
    "    high_rating = books2[books2['ratings_count'] >= m]\n",
    "    high_rating = high_rating.sort_values('new_score', ascending=False)\n",
    "\n",
    "    return high_rating[['book_id', 'title', 'authors', 'average_rating', 'ratings_count','new_score']].head(n)"
   ]
  },
  {
   "cell_type": "code",
   "execution_count": 16,
   "id": "8743ac17",
   "metadata": {},
   "outputs": [
    {
     "data": {
      "text/html": [
       "<div>\n",
       "<style scoped>\n",
       "    .dataframe tbody tr th:only-of-type {\n",
       "        vertical-align: middle;\n",
       "    }\n",
       "\n",
       "    .dataframe tbody tr th {\n",
       "        vertical-align: top;\n",
       "    }\n",
       "\n",
       "    .dataframe thead th {\n",
       "        text-align: right;\n",
       "    }\n",
       "</style>\n",
       "<table border=\"1\" class=\"dataframe\">\n",
       "  <thead>\n",
       "    <tr style=\"text-align: right;\">\n",
       "      <th></th>\n",
       "      <th>book_id</th>\n",
       "      <th>title</th>\n",
       "      <th>authors</th>\n",
       "      <th>average_rating</th>\n",
       "      <th>ratings_count</th>\n",
       "      <th>new_score</th>\n",
       "    </tr>\n",
       "  </thead>\n",
       "  <tbody>\n",
       "    <tr>\n",
       "      <th>795</th>\n",
       "      <td>846</td>\n",
       "      <td>Animal Farm / 1984</td>\n",
       "      <td>George Orwell</td>\n",
       "      <td>4.26</td>\n",
       "      <td>116197</td>\n",
       "      <td>4.20</td>\n",
       "    </tr>\n",
       "    <tr>\n",
       "      <th>759</th>\n",
       "      <td>809</td>\n",
       "      <td>Brave New World / Brave New World Revisited</td>\n",
       "      <td>Aldous Huxley</td>\n",
       "      <td>4.16</td>\n",
       "      <td>108124</td>\n",
       "      <td>4.13</td>\n",
       "    </tr>\n",
       "    <tr>\n",
       "      <th>1044</th>\n",
       "      <td>1120</td>\n",
       "      <td>Aesop's Fables</td>\n",
       "      <td>Aesop</td>\n",
       "      <td>4.05</td>\n",
       "      <td>88508</td>\n",
       "      <td>4.05</td>\n",
       "    </tr>\n",
       "    <tr>\n",
       "      <th>8316</th>\n",
       "      <td>2375</td>\n",
       "      <td>Tinker, Tailor, Soldier, Spy</td>\n",
       "      <td>John le Carré</td>\n",
       "      <td>4.04</td>\n",
       "      <td>40871</td>\n",
       "      <td>4.04</td>\n",
       "    </tr>\n",
       "    <tr>\n",
       "      <th>604</th>\n",
       "      <td>649</td>\n",
       "      <td>1Q84</td>\n",
       "      <td>Haruki Murakami</td>\n",
       "      <td>3.89</td>\n",
       "      <td>125195</td>\n",
       "      <td>3.93</td>\n",
       "    </tr>\n",
       "  </tbody>\n",
       "</table>\n",
       "</div>"
      ],
      "text/plain": [
       "      book_id                                        title          authors  \\\n",
       "795       846                           Animal Farm / 1984    George Orwell   \n",
       "759       809  Brave New World / Brave New World Revisited    Aldous Huxley   \n",
       "1044     1120                               Aesop's Fables            Aesop   \n",
       "8316     2375                 Tinker, Tailor, Soldier, Spy    John le Carré   \n",
       "604       649                                         1Q84  Haruki Murakami   \n",
       "\n",
       "      average_rating  ratings_count  new_score  \n",
       "795             4.26         116197       4.20  \n",
       "759             4.16         108124       4.13  \n",
       "1044            4.05          88508       4.05  \n",
       "8316            4.04          40871       4.04  \n",
       "604             3.89         125195       3.93  "
      ]
     },
     "execution_count": 16,
     "metadata": {},
     "output_type": "execute_result"
    }
   ],
   "source": [
    "improved_recommendation(b, '1984')"
   ]
  },
  {
   "cell_type": "markdown",
   "id": "4cbd0a0b",
   "metadata": {},
   "source": [
    "### c. Evaluation"
   ]
  },
  {
   "cell_type": "markdown",
   "id": "60c22c3b",
   "metadata": {},
   "source": [
    "This method is suitable for people who are looking for similar books, but this system can not capture tastes and provide recommendations across genres. Therefore, we will try to build a recommendation system using Collaborative filtering."
   ]
  },
  {
   "cell_type": "markdown",
   "id": "462ecba0",
   "metadata": {},
   "source": [
    "## 3. Collaborative Filtering"
   ]
  },
  {
   "cell_type": "markdown",
   "id": "b08732f5",
   "metadata": {},
   "source": [
    "This system suggests book to users based on past reading history and collaboration of other users' preferences. This recommender systems provides personalized recommendation. In this notebook, I will use [Surprise](https://surpriselib.com/) library to make the recommendation system. Surprise is a Python scikit for building and analyzing recommender systems that deal with explicit rating data. I will try to fit into 4 model and evaluate by using RMSE value. The model I use:\n",
    "1. **Normal Predictor**\n",
    "2. **KNN** (Memory-based)\n",
    "3. **SVD** (Model-based)\n",
    "\n",
    "Since the calculation is taking to much memory, I dump the calculation file in order to reuse it for comparison. I will also test all the recommendation system to user 12874. This user is one of the user that give many ratings."
   ]
  },
  {
   "cell_type": "code",
   "execution_count": 17,
   "id": "eb478ff3",
   "metadata": {},
   "outputs": [],
   "source": [
    "#to have reproducible experiments\n",
    "my_seed = 0\n",
    "random.seed(my_seed)\n",
    "np.random.seed(my_seed)"
   ]
  },
  {
   "cell_type": "code",
   "execution_count": 18,
   "id": "32f4acef",
   "metadata": {},
   "outputs": [],
   "source": [
    "#Load the full dataset\n",
    "reader = Reader(rating_scale=(1,5))\n",
    "data = Dataset.load_from_df(r, reader)"
   ]
  },
  {
   "cell_type": "code",
   "execution_count": 19,
   "id": "886c103c",
   "metadata": {},
   "outputs": [],
   "source": [
    "#shuffle the ratings for unbiased result\n",
    "all_ratings = data.raw_ratings\n",
    "random.shuffle(all_ratings)"
   ]
  },
  {
   "cell_type": "code",
   "execution_count": 20,
   "id": "58839577",
   "metadata": {},
   "outputs": [],
   "source": [
    "#split data into train and test data with the ratio 70:30\n",
    "threshold = int(0.6 * len(all_ratings))\n",
    "train_ratings = all_ratings[:threshold]\n",
    "test_ratings = all_ratings[threshold:]"
   ]
  },
  {
   "cell_type": "code",
   "execution_count": 21,
   "id": "6f40e9c0",
   "metadata": {},
   "outputs": [],
   "source": [
    "def book_read(user_id):\n",
    "    '''Take user_id and return list of book that user has read'''\n",
    "    books_list = list(b['book_id'])\n",
    "    book_read_list = list(r['book_id'][r['user_id'] == user_id])\n",
    "    return books_list, book_read_list"
   ]
  },
  {
   "cell_type": "markdown",
   "id": "7e1b929b",
   "metadata": {},
   "source": [
    "### a. Normal Predictor"
   ]
  },
  {
   "cell_type": "markdown",
   "id": "2721f332",
   "metadata": {},
   "source": [
    "Algorithm predicting a random rating based on the distribution of the training set, which is assumed to be normal."
   ]
  },
  {
   "cell_type": "code",
   "execution_count": 22,
   "id": "f29e0960",
   "metadata": {},
   "outputs": [],
   "source": [
    "# prepare train data\n",
    "data.raw_ratings = train_ratings\n",
    "\n",
    "#select algorithm\n",
    "npred = NormalPredictor()"
   ]
  },
  {
   "cell_type": "code",
   "execution_count": 23,
   "id": "080c0c3c",
   "metadata": {},
   "outputs": [
    {
     "name": "stdout",
     "output_type": "stream",
     "text": [
      "Evaluating RMSE of algorithm NormalPredictor on 5 split(s).\n",
      "\n",
      "                  Fold 1  Fold 2  Fold 3  Fold 4  Fold 5  Mean    Std     \n",
      "RMSE (testset)    1.3245  1.3239  1.3231  1.3249  1.3248  1.3242  0.0007  \n",
      "Fit time          1.58    1.67    1.56    1.62    1.61    1.61    0.04    \n",
      "Test time         4.28    3.66    3.93    3.98    3.04    3.78    0.42    \n",
      "CPU times: total: 54 s\n",
      "Wall time: 1min 4s\n"
     ]
    }
   ],
   "source": [
    "%%time\n",
    "\n",
    "#cross validation for train data\n",
    "np_result = cross_validate(npred, data, measures=['RMSE'], cv=5, verbose=True, n_jobs=2)"
   ]
  },
  {
   "cell_type": "markdown",
   "id": "885ccd9b",
   "metadata": {},
   "source": [
    "In order to make prediction on test data, we have to retrain whole train set first."
   ]
  },
  {
   "cell_type": "code",
   "execution_count": 24,
   "id": "394aa7df",
   "metadata": {},
   "outputs": [
    {
     "name": "stdout",
     "output_type": "stream",
     "text": [
      "Train RMSE:\n",
      "RMSE: 1.3232\n",
      "Test RMSE:\n",
      "RMSE: 1.3233\n",
      "CPU times: total: 46.2 s\n",
      "Wall time: 48.5 s\n"
     ]
    }
   ],
   "source": [
    "%%time\n",
    "#retrain whole train test\n",
    "trainset = data.build_full_trainset()\n",
    "npred.fit(trainset)\n",
    "\n",
    "# Compute RMSE on trainset (without fold)\n",
    "np_train_pred = npred.test(trainset.build_testset())\n",
    "print('Train RMSE:')\n",
    "train_rmse = accuracy.rmse(np_train_pred)\n",
    "\n",
    "#compute RMSE on testset\n",
    "testset = data.construct_testset(test_ratings)\n",
    "np_test_pred = npred.test(testset)\n",
    "print('Test RMSE:')\n",
    "test_rmse = accuracy.rmse(np_test_pred)"
   ]
  },
  {
   "cell_type": "code",
   "execution_count": 25,
   "id": "09c7c21d",
   "metadata": {},
   "outputs": [],
   "source": [
    "# uncomment this code to dump the calculation result for future use\n",
    "dump.dump('./models/dump_np', np_test_pred, npred)"
   ]
  },
  {
   "cell_type": "markdown",
   "id": "dffa21bd",
   "metadata": {},
   "source": [
    "Now we can get recommendation for user 12874"
   ]
  },
  {
   "cell_type": "code",
   "execution_count": 29,
   "id": "cc24f3ae",
   "metadata": {},
   "outputs": [
    {
     "name": "stdout",
     "output_type": "stream",
     "text": [
      "CPU times: total: 13.8 s\n",
      "Wall time: 15.4 s\n"
     ]
    },
    {
     "data": {
      "text/plain": [
       "<surprise.prediction_algorithms.random_pred.NormalPredictor at 0x1beb4ba9100>"
      ]
     },
     "execution_count": 29,
     "metadata": {},
     "output_type": "execute_result"
    }
   ],
   "source": [
    "%%time\n",
    "\n",
    "data.raw_ratings = all_ratings\n",
    "npred.fit(data.build_full_trainset())"
   ]
  },
  {
   "cell_type": "code",
   "execution_count": 30,
   "id": "50df405f",
   "metadata": {},
   "outputs": [],
   "source": [
    "def get_recommendation_npred(user_id, n=5):\n",
    "    '''Give n recommendation to user_id'''\n",
    "    \n",
    "    all_books, user_books =  book_read(user_id)\n",
    "    next_books = [book for book in all_books if book not in user_books]\n",
    "    \n",
    "    if n <= len(next_books):\n",
    "        ratings = []\n",
    "        for book in next_books:\n",
    "            est = npred.predict(user_id, book).est\n",
    "            ratings.append((book, est))\n",
    "        ratings = sorted(ratings, key=lambda x: x[1], reverse=True)\n",
    "        book_ids = [id for id, rate in ratings[:n]]\n",
    "        return b[b.book_id.isin(book_ids)][['book_id', 'title', 'authors', 'average_rating', 'ratings_count']]\n",
    "    else:\n",
    "        print('Please reduce your recommendation request')\n",
    "        return"
   ]
  },
  {
   "cell_type": "code",
   "execution_count": 31,
   "id": "ae0b9486",
   "metadata": {},
   "outputs": [
    {
     "data": {
      "text/html": [
       "<div>\n",
       "<style scoped>\n",
       "    .dataframe tbody tr th:only-of-type {\n",
       "        vertical-align: middle;\n",
       "    }\n",
       "\n",
       "    .dataframe tbody tr th {\n",
       "        vertical-align: top;\n",
       "    }\n",
       "\n",
       "    .dataframe thead th {\n",
       "        text-align: right;\n",
       "    }\n",
       "</style>\n",
       "<table border=\"1\" class=\"dataframe\">\n",
       "  <thead>\n",
       "    <tr style=\"text-align: right;\">\n",
       "      <th></th>\n",
       "      <th>book_id</th>\n",
       "      <th>title</th>\n",
       "      <th>authors</th>\n",
       "      <th>average_rating</th>\n",
       "      <th>ratings_count</th>\n",
       "    </tr>\n",
       "  </thead>\n",
       "  <tbody>\n",
       "    <tr>\n",
       "      <th>39</th>\n",
       "      <td>45</td>\n",
       "      <td>Life of Pi</td>\n",
       "      <td>Yann Martel</td>\n",
       "      <td>3.88</td>\n",
       "      <td>1003228</td>\n",
       "    </tr>\n",
       "    <tr>\n",
       "      <th>46</th>\n",
       "      <td>53</td>\n",
       "      <td>Eragon (The Inheritance Cycle, #1)</td>\n",
       "      <td>Christopher Paolini</td>\n",
       "      <td>3.86</td>\n",
       "      <td>1104021</td>\n",
       "    </tr>\n",
       "    <tr>\n",
       "      <th>57</th>\n",
       "      <td>64</td>\n",
       "      <td>My Sister's Keeper</td>\n",
       "      <td>Jodi Picoult</td>\n",
       "      <td>4.06</td>\n",
       "      <td>863879</td>\n",
       "    </tr>\n",
       "    <tr>\n",
       "      <th>65</th>\n",
       "      <td>73</td>\n",
       "      <td>The Host (The Host, #1)</td>\n",
       "      <td>Stephenie Meyer</td>\n",
       "      <td>3.84</td>\n",
       "      <td>749780</td>\n",
       "    </tr>\n",
       "    <tr>\n",
       "      <th>77</th>\n",
       "      <td>86</td>\n",
       "      <td>A Time to Kill</td>\n",
       "      <td>John Grisham</td>\n",
       "      <td>4.03</td>\n",
       "      <td>597775</td>\n",
       "    </tr>\n",
       "  </tbody>\n",
       "</table>\n",
       "</div>"
      ],
      "text/plain": [
       "    book_id                               title              authors  \\\n",
       "39       45                          Life of Pi          Yann Martel   \n",
       "46       53  Eragon (The Inheritance Cycle, #1)  Christopher Paolini   \n",
       "57       64                  My Sister's Keeper         Jodi Picoult   \n",
       "65       73             The Host (The Host, #1)      Stephenie Meyer   \n",
       "77       86                      A Time to Kill         John Grisham   \n",
       "\n",
       "    average_rating  ratings_count  \n",
       "39            3.88        1003228  \n",
       "46            3.86        1104021  \n",
       "57            4.06         863879  \n",
       "65            3.84         749780  \n",
       "77            4.03         597775  "
      ]
     },
     "execution_count": 31,
     "metadata": {},
     "output_type": "execute_result"
    }
   ],
   "source": [
    "get_recommendation_npred(12874, 5)"
   ]
  },
  {
   "cell_type": "markdown",
   "id": "91e7c015",
   "metadata": {},
   "source": [
    "### b. K-Nearest Neighbour"
   ]
  },
  {
   "cell_type": "markdown",
   "id": "f2335a6e",
   "metadata": {},
   "source": [
    "These are algorithms that are directly derived from a basic nearest neighbors approach."
   ]
  },
  {
   "cell_type": "code",
   "execution_count": 32,
   "id": "4dc6a192",
   "metadata": {},
   "outputs": [],
   "source": [
    "#change data to trainset\n",
    "data.raw_ratings = train_ratings \n",
    "\n",
    "#select algorithm\n",
    "sim_options = {\"name\": \"cosine\",\n",
    "               \"user_based\": False}\n",
    "knn = KNNBasic(sim_options=sim_options)"
   ]
  },
  {
   "cell_type": "code",
   "execution_count": 33,
   "id": "cd8d7322",
   "metadata": {},
   "outputs": [
    {
     "name": "stdout",
     "output_type": "stream",
     "text": [
      "Computing the cosine similarity matrix...\n",
      "Done computing similarity matrix.\n",
      "Computing the cosine similarity matrix...\n",
      "Done computing similarity matrix.\n",
      "Computing the cosine similarity matrix...\n",
      "Done computing similarity matrix.\n",
      "Computing the cosine similarity matrix...\n",
      "Done computing similarity matrix.\n",
      "Computing the cosine similarity matrix...\n",
      "Done computing similarity matrix.\n",
      "Evaluating RMSE of algorithm KNNBasic on 5 split(s).\n",
      "\n",
      "                  Fold 1  Fold 2  Fold 3  Fold 4  Fold 5  Mean    Std     \n",
      "RMSE (testset)    0.8887  0.8910  0.8916  0.8910  0.8915  0.8908  0.0011  \n",
      "Fit time          32.49   37.47   32.66   32.36   32.08   33.41   2.04    \n",
      "Test time         53.37   42.95   51.78   42.27   51.52   48.38   4.76    \n",
      "CPU times: total: 6min 49s\n",
      "Wall time: 7min 18s\n"
     ]
    }
   ],
   "source": [
    "%%time\n",
    "\n",
    "#cross validation for train data\n",
    "knn_result = cross_validate(knn, data, measures=['RMSE'], cv=5, verbose=True, n_jobs = 1)"
   ]
  },
  {
   "cell_type": "code",
   "execution_count": 36,
   "id": "22dcb86f",
   "metadata": {},
   "outputs": [
    {
     "name": "stdout",
     "output_type": "stream",
     "text": [
      "Computing the cosine similarity matrix...\n",
      "Done computing similarity matrix.\n",
      "Train RMSE:\n",
      "RMSE: 0.8070\n",
      "Test RMSE:\n",
      "RMSE: 0.8866\n",
      "CPU times: total: 6min 42s\n",
      "Wall time: 6min 55s\n"
     ]
    }
   ],
   "source": [
    "%%time\n",
    "\n",
    "#retrain whole train test\n",
    "trainset = data.build_full_trainset()\n",
    "knn.fit(trainset)\n",
    "\n",
    "# Compute RMSE on trainset (without fold)\n",
    "knn_train_pred = knn.test(trainset.build_testset())\n",
    "print('Train RMSE:')\n",
    "train_rmse = accuracy.rmse(knn_train_pred)\n",
    "\n",
    "#compute RMSE on testset\n",
    "testset = data.construct_testset(test_ratings)\n",
    "knn_test_pred = knn.test(testset)\n",
    "print('Test RMSE:')\n",
    "test_rmse = accuracy.rmse(knn_test_pred)"
   ]
  },
  {
   "cell_type": "code",
   "execution_count": 37,
   "id": "aa8c23f5",
   "metadata": {},
   "outputs": [],
   "source": [
    "# uncomment this code to dump the calculation result for future use\n",
    "dump.dump('./models/dump_knn', knn_test_pred, knn)"
   ]
  },
  {
   "cell_type": "markdown",
   "id": "d905674a",
   "metadata": {},
   "source": [
    "Now we can get recommendation for user 12874"
   ]
  },
  {
   "cell_type": "code",
   "execution_count": 38,
   "id": "644a3208",
   "metadata": {},
   "outputs": [
    {
     "name": "stdout",
     "output_type": "stream",
     "text": [
      "Computing the cosine similarity matrix...\n",
      "Done computing similarity matrix.\n",
      "CPU times: total: 2min 4s\n",
      "Wall time: 2min 7s\n"
     ]
    },
    {
     "data": {
      "text/plain": [
       "<surprise.prediction_algorithms.knns.KNNBasic at 0x1beb4baa540>"
      ]
     },
     "execution_count": 38,
     "metadata": {},
     "output_type": "execute_result"
    }
   ],
   "source": [
    "%%time\n",
    "\n",
    "data.raw_ratings = all_ratings\n",
    "knn.fit(data.build_full_trainset())"
   ]
  },
  {
   "cell_type": "code",
   "execution_count": 39,
   "id": "0aeebc30",
   "metadata": {},
   "outputs": [],
   "source": [
    "def get_recommendation_knn(user_id, n=5):\n",
    "    '''Give n recommendation to user_id'''\n",
    "    \n",
    "    all_books, user_books =  book_read(user_id)\n",
    "    next_books = [book for book in all_books if book not in user_books]\n",
    "    \n",
    "    if n <= len(next_books):\n",
    "        ratings = []\n",
    "        for book in next_books:\n",
    "            est = knn.predict(user_id, book).est\n",
    "            ratings.append((book, est))\n",
    "        ratings = sorted(ratings, key=lambda x: x[1], reverse=True)\n",
    "        book_ids = [id for id, rate in ratings[:n]]\n",
    "        return b[b.book_id.isin(book_ids)][['book_id', 'title', 'authors', 'average_rating', 'ratings_count']]\n",
    "    else:\n",
    "        print('Please reduce your recommendation request')\n",
    "        return"
   ]
  },
  {
   "cell_type": "code",
   "execution_count": 40,
   "id": "36870521",
   "metadata": {},
   "outputs": [
    {
     "data": {
      "text/html": [
       "<div>\n",
       "<style scoped>\n",
       "    .dataframe tbody tr th:only-of-type {\n",
       "        vertical-align: middle;\n",
       "    }\n",
       "\n",
       "    .dataframe tbody tr th {\n",
       "        vertical-align: top;\n",
       "    }\n",
       "\n",
       "    .dataframe thead th {\n",
       "        text-align: right;\n",
       "    }\n",
       "</style>\n",
       "<table border=\"1\" class=\"dataframe\">\n",
       "  <thead>\n",
       "    <tr style=\"text-align: right;\">\n",
       "      <th></th>\n",
       "      <th>book_id</th>\n",
       "      <th>title</th>\n",
       "      <th>authors</th>\n",
       "      <th>average_rating</th>\n",
       "      <th>ratings_count</th>\n",
       "    </tr>\n",
       "  </thead>\n",
       "  <tbody>\n",
       "    <tr>\n",
       "      <th>27</th>\n",
       "      <td>31</td>\n",
       "      <td>The Help</td>\n",
       "      <td>Kathryn Stockett</td>\n",
       "      <td>4.45</td>\n",
       "      <td>1531753</td>\n",
       "    </tr>\n",
       "    <tr>\n",
       "      <th>89</th>\n",
       "      <td>98</td>\n",
       "      <td>The Girl Who Played with Fire (Millennium, #2)</td>\n",
       "      <td>Stieg Larsson</td>\n",
       "      <td>4.22</td>\n",
       "      <td>563994</td>\n",
       "    </tr>\n",
       "    <tr>\n",
       "      <th>103</th>\n",
       "      <td>114</td>\n",
       "      <td>Tuesdays with Morrie</td>\n",
       "      <td>Mitch Albom</td>\n",
       "      <td>4.06</td>\n",
       "      <td>556518</td>\n",
       "    </tr>\n",
       "    <tr>\n",
       "      <th>118</th>\n",
       "      <td>132</td>\n",
       "      <td>The Five People You Meet in Heaven</td>\n",
       "      <td>Mitch Albom</td>\n",
       "      <td>3.90</td>\n",
       "      <td>449501</td>\n",
       "    </tr>\n",
       "    <tr>\n",
       "      <th>126</th>\n",
       "      <td>140</td>\n",
       "      <td>The Girl Who Kicked the Hornet's Nest (Millenn...</td>\n",
       "      <td>Stieg Larsson</td>\n",
       "      <td>4.20</td>\n",
       "      <td>443951</td>\n",
       "    </tr>\n",
       "  </tbody>\n",
       "</table>\n",
       "</div>"
      ],
      "text/plain": [
       "     book_id                                              title  \\\n",
       "27        31                                           The Help   \n",
       "89        98     The Girl Who Played with Fire (Millennium, #2)   \n",
       "103      114                               Tuesdays with Morrie   \n",
       "118      132                 The Five People You Meet in Heaven   \n",
       "126      140  The Girl Who Kicked the Hornet's Nest (Millenn...   \n",
       "\n",
       "              authors  average_rating  ratings_count  \n",
       "27   Kathryn Stockett            4.45        1531753  \n",
       "89      Stieg Larsson            4.22         563994  \n",
       "103       Mitch Albom            4.06         556518  \n",
       "118       Mitch Albom            3.90         449501  \n",
       "126     Stieg Larsson            4.20         443951  "
      ]
     },
     "execution_count": 40,
     "metadata": {},
     "output_type": "execute_result"
    }
   ],
   "source": [
    "get_recommendation_knn(12874, 5)"
   ]
  },
  {
   "cell_type": "markdown",
   "id": "cc632fb6",
   "metadata": {},
   "source": [
    "### c. Singular Value Decomposition (SVD)"
   ]
  },
  {
   "cell_type": "markdown",
   "id": "d9e8ccb8",
   "metadata": {},
   "source": [
    "The famous SVD algorithm, as popularized by Simon Funk during the Netflix Prize. SVD finds the latent factors associated with some matrix. SVD will decompose user-rating matrix into matrices that represents latent user-user features and item-item features."
   ]
  },
  {
   "cell_type": "code",
   "execution_count": 41,
   "id": "40fc89e3",
   "metadata": {},
   "outputs": [],
   "source": [
    "#change data to trainset\n",
    "data.raw_ratings = train_ratings \n",
    "\n",
    "#select algorithm\n",
    "svd = SVD(random_state=0)"
   ]
  },
  {
   "cell_type": "code",
   "execution_count": 42,
   "id": "5415982f",
   "metadata": {},
   "outputs": [
    {
     "name": "stdout",
     "output_type": "stream",
     "text": [
      "Evaluating RMSE of algorithm SVD on 5 split(s).\n",
      "\n",
      "                  Fold 1  Fold 2  Fold 3  Fold 4  Fold 5  Mean    Std     \n",
      "RMSE (testset)    0.8580  0.8594  0.8579  0.8574  0.8573  0.8580  0.0007  \n",
      "Fit time          15.54   15.76   16.22   15.70   14.33   15.51   0.63    \n",
      "Test time         5.33    5.62    5.18    5.29    4.58    5.20    0.34    \n",
      "CPU times: total: 55.2 s\n",
      "Wall time: 1min 22s\n"
     ]
    }
   ],
   "source": [
    "%%time\n",
    "\n",
    "#cross validation for train data\n",
    "svd_result = cross_validate(svd, data, measures=[\"RMSE\"], cv=5, verbose=True, n_jobs = 2)"
   ]
  },
  {
   "cell_type": "code",
   "execution_count": 44,
   "id": "19a767f5",
   "metadata": {},
   "outputs": [
    {
     "name": "stdout",
     "output_type": "stream",
     "text": [
      "Train RMSE:\n",
      "RMSE: 0.6449\n",
      "Test RMSE:\n",
      "RMSE: 0.8465\n",
      "CPU times: total: 1min 24s\n",
      "Wall time: 1min 29s\n"
     ]
    }
   ],
   "source": [
    "%%time\n",
    "\n",
    "#retrain whole train test\n",
    "trainset = data.build_full_trainset()\n",
    "svd.fit(trainset)\n",
    "\n",
    "# Compute RMSE on trainset (without fold)\n",
    "svd_train_pred = svd.test(trainset.build_testset())\n",
    "print('Train RMSE:')\n",
    "train_rmse = accuracy.rmse(svd_train_pred)\n",
    "\n",
    "#compute RMSE on testset\n",
    "testset = data.construct_testset(test_ratings)\n",
    "svd_test_pred = svd.test(testset)\n",
    "print('Test RMSE:')\n",
    "test_rmse = accuracy.rmse(svd_test_pred)"
   ]
  },
  {
   "cell_type": "code",
   "execution_count": 45,
   "id": "da9eab8d",
   "metadata": {},
   "outputs": [],
   "source": [
    "# uncomment this code to dump the calculation result for future use\n",
    "dump.dump('./dump_svd', svd_test_pred, svd)"
   ]
  },
  {
   "cell_type": "markdown",
   "id": "9fd72109",
   "metadata": {},
   "source": [
    "Now we can get recommendation for user 12874"
   ]
  },
  {
   "cell_type": "code",
   "execution_count": 46,
   "id": "637406f3",
   "metadata": {},
   "outputs": [
    {
     "name": "stdout",
     "output_type": "stream",
     "text": [
      "CPU times: total: 1min 10s\n",
      "Wall time: 1min 11s\n"
     ]
    },
    {
     "data": {
      "text/plain": [
       "<surprise.prediction_algorithms.matrix_factorization.SVD at 0x1be8340cb00>"
      ]
     },
     "execution_count": 46,
     "metadata": {},
     "output_type": "execute_result"
    }
   ],
   "source": [
    "%%time\n",
    "\n",
    "data.raw_ratings = all_ratings\n",
    "svd.fit(data.build_full_trainset())"
   ]
  },
  {
   "cell_type": "code",
   "execution_count": 47,
   "id": "66fcc2fe",
   "metadata": {},
   "outputs": [],
   "source": [
    "def get_recommendation_svd(user_id, n=5):\n",
    "    '''Give n recommendation to user_id'''\n",
    "    \n",
    "    all_books, user_books =  book_read(user_id)\n",
    "    next_books = [book for book in all_books if book not in user_books]\n",
    "    \n",
    "    if n <= len(next_books):\n",
    "        ratings = []\n",
    "        for book in next_books:\n",
    "            est = svd.predict(user_id, book).est\n",
    "            ratings.append((book, est))\n",
    "        ratings = sorted(ratings, key=lambda x: x[1], reverse=True)\n",
    "        book_ids = [id for id, rate in ratings[:n]]\n",
    "        return b[b.book_id.isin(book_ids)][['book_id', 'title', 'authors', 'average_rating', 'ratings_count']]\n",
    "    else:\n",
    "        print('Please reduce your recommendation request')\n",
    "        return"
   ]
  },
  {
   "cell_type": "code",
   "execution_count": 48,
   "id": "2a9c37d9",
   "metadata": {},
   "outputs": [
    {
     "data": {
      "text/html": [
       "<div>\n",
       "<style scoped>\n",
       "    .dataframe tbody tr th:only-of-type {\n",
       "        vertical-align: middle;\n",
       "    }\n",
       "\n",
       "    .dataframe tbody tr th {\n",
       "        vertical-align: top;\n",
       "    }\n",
       "\n",
       "    .dataframe thead th {\n",
       "        text-align: right;\n",
       "    }\n",
       "</style>\n",
       "<table border=\"1\" class=\"dataframe\">\n",
       "  <thead>\n",
       "    <tr style=\"text-align: right;\">\n",
       "      <th></th>\n",
       "      <th>book_id</th>\n",
       "      <th>title</th>\n",
       "      <th>authors</th>\n",
       "      <th>average_rating</th>\n",
       "      <th>ratings_count</th>\n",
       "    </tr>\n",
       "  </thead>\n",
       "  <tbody>\n",
       "    <tr>\n",
       "      <th>27</th>\n",
       "      <td>31</td>\n",
       "      <td>The Help</td>\n",
       "      <td>Kathryn Stockett</td>\n",
       "      <td>4.45</td>\n",
       "      <td>1531753</td>\n",
       "    </tr>\n",
       "    <tr>\n",
       "      <th>194</th>\n",
       "      <td>215</td>\n",
       "      <td>Ready Player One</td>\n",
       "      <td>Ernest Cline</td>\n",
       "      <td>4.31</td>\n",
       "      <td>349423</td>\n",
       "    </tr>\n",
       "    <tr>\n",
       "      <th>226</th>\n",
       "      <td>250</td>\n",
       "      <td>Wonder</td>\n",
       "      <td>R.J. Palacio</td>\n",
       "      <td>4.43</td>\n",
       "      <td>228538</td>\n",
       "    </tr>\n",
       "    <tr>\n",
       "      <th>390</th>\n",
       "      <td>425</td>\n",
       "      <td>Go Ask Alice</td>\n",
       "      <td>Beatrice Sparks</td>\n",
       "      <td>3.77</td>\n",
       "      <td>196677</td>\n",
       "    </tr>\n",
       "    <tr>\n",
       "      <th>1698</th>\n",
       "      <td>1808</td>\n",
       "      <td>Morning Star (Red Rising, #3)</td>\n",
       "      <td>Pierce Brown</td>\n",
       "      <td>4.50</td>\n",
       "      <td>47736</td>\n",
       "    </tr>\n",
       "  </tbody>\n",
       "</table>\n",
       "</div>"
      ],
      "text/plain": [
       "      book_id                          title           authors  \\\n",
       "27         31                       The Help  Kathryn Stockett   \n",
       "194       215               Ready Player One      Ernest Cline   \n",
       "226       250                         Wonder      R.J. Palacio   \n",
       "390       425                   Go Ask Alice   Beatrice Sparks   \n",
       "1698     1808  Morning Star (Red Rising, #3)      Pierce Brown   \n",
       "\n",
       "      average_rating  ratings_count  \n",
       "27              4.45        1531753  \n",
       "194             4.31         349423  \n",
       "226             4.43         228538  \n",
       "390             3.77         196677  \n",
       "1698            4.50          47736  "
      ]
     },
     "execution_count": 48,
     "metadata": {},
     "output_type": "execute_result"
    }
   ],
   "source": [
    "get_recommendation_svd(12874, 5)"
   ]
  },
  {
   "cell_type": "markdown",
   "id": "8b8fe65f",
   "metadata": {},
   "source": [
    "### e. Evaluation"
   ]
  },
  {
   "cell_type": "code",
   "execution_count": 49,
   "id": "51838809",
   "metadata": {},
   "outputs": [],
   "source": [
    "#uncomment this code to load the dump file\n",
    "np_test_pred, npred = dump.load('./models/dump_np')\n",
    "knn_test_pred, knn = dump.load('./models/dump_knn')\n",
    "svd_test_pred, svd = dump.load('./models/dump_svd')"
   ]
  },
  {
   "cell_type": "code",
   "execution_count": 51,
   "id": "bc32757e",
   "metadata": {},
   "outputs": [],
   "source": [
    "#making the calculation reult into dataframe\n",
    "df_np = pd.DataFrame(np_test_pred, columns=['uid', 'iid', 'rui', 'est', 'details'])\n",
    "df_knn = pd.DataFrame(knn_test_pred, columns=['uid', 'iid', 'rui', 'est', 'details'])\n",
    "df_svd = pd.DataFrame(svd_test_pred, columns=['uid', 'iid', 'rui', 'est', 'details'])  "
   ]
  },
  {
   "cell_type": "markdown",
   "id": "de0c29c5",
   "metadata": {},
   "source": [
    "#### Comparing Prediction Distribution"
   ]
  },
  {
   "cell_type": "code",
   "execution_count": 55,
   "id": "6e7c5f28",
   "metadata": {},
   "outputs": [
    {
     "data": {
      "image/png": "[encoded data removed]",
      "text/plain": [
       "<Figure size 1600x500 with 4 Axes>"
      ]
     },
     "metadata": {},
     "output_type": "display_data"
    }
   ],
   "source": [
    "# Count the number of predictions for each rating value\n",
    "figure, (ax1, ax2, ax3, ax4) = plt.subplots(1, 4,  figsize=(16, 5), sharey=True, constrained_layout=True)\n",
    "df_np.est.plot(kind='hist', title='NP', ax=ax1, color='#45818E')\n",
    "df_knn.est.plot(kind='hist', title='KNN', ax=ax2, color='#9D5353')\n",
    "df_svd.est.plot(kind='hist', title='SVD', ax=ax3, color='#92BA92')\n",
    "current_values = plt.gca().get_yticks() / 1000\n",
    "plt.gca().set_yticklabels(['{:,.0f}'.format(x) + 'K' for x in current_values])\n",
    "plt.suptitle('Prediction Distribution in Each Model', weight='bold', fontsize=20)\n",
    "plt.show()"
   ]
  },
  {
   "cell_type": "code",
   "execution_count": 57,
   "id": "ce25b0c7",
   "metadata": {},
   "outputs": [
    {
     "data": {
      "image/png": "[encoded data removed]",
      "text/plain": [
       "<Figure size 800x600 with 1 Axes>"
      ]
     },
     "metadata": {},
     "output_type": "display_data"
    }
   ],
   "source": [
    "fig, ax = plt.subplots(figsize=(8,6))\n",
    "sns.kdeplot(df_np['est'], shade=False, color='#45818E', label = 'NP', ax=ax)\n",
    "sns.kdeplot(df_knn['est'], shade=False, color='#9D5353', label = 'KNN', ax=ax)\n",
    "sns.kdeplot(df_svd['est'], shade=False, color='#92BA92', label = 'SVD', ax=ax)\n",
    "ax.legend()\n",
    "plt.xlabel('Rating prediction')\n",
    "plt.ylabel('Density')\n",
    "plt.title('Comparison of rating estimation in each model', weight='bold', fontsize=14)\n",
    "plt.show()"
   ]
  },
  {
   "cell_type": "markdown",
   "id": "2413fc76",
   "metadata": {},
   "source": [
    "As we can see, Normal Predictor model predicts higher ratings more often, meanwhile KNN predictions are concentrated around the mean. For SVD and SVD++, the ratings are more fairly distributed."
   ]
  },
  {
   "cell_type": "markdown",
   "id": "7dc8d182",
   "metadata": {},
   "source": [
    "## Hyperparameter Tuning on Best Model"
   ]
  },
  {
   "cell_type": "markdown",
   "id": "cab8858c",
   "metadata": {},
   "source": [
    "Based on our comparison, we choose SVD as the best model. SVD was chosen because it has a relatively low RMSE value, relatively short processing time and the memory used is not too large.<br>\n",
    "To tune the hyperparameter, we can utilize grid search, an optimization technique that explores all possibilities of the provided hyperparameter options. The parameters that will be tuned are:\n",
    "- n_epochs: the number of iterations of the SGD procedure\n",
    "- lr_all: the learning rate for all parameters\n",
    "- reg_all: the regularization term for all parameters"
   ]
  },
  {
   "cell_type": "code",
   "execution_count": 58,
   "id": "485a14eb",
   "metadata": {},
   "outputs": [],
   "source": [
    "# prepare train data\n",
    "data.raw_ratings = train_ratings"
   ]
  },
  {
   "cell_type": "code",
   "execution_count": 59,
   "id": "3d0ab8eb",
   "metadata": {},
   "outputs": [
    {
     "name": "stdout",
     "output_type": "stream",
     "text": [
      "0.846952345095638\n",
      "{'n_epochs': 30, 'lr_all': 0.005, 'reg_all': 0.04}\n",
      "CPU times: total: 4min 3s\n",
      "Wall time: 16min 36s\n"
     ]
    }
   ],
   "source": [
    "%%time\n",
    "\n",
    "grid = {'n_epochs': [20, 30], \n",
    "        'lr_all': [.005, .001], \n",
    "        'reg_all': [0.02, 0.04]} \n",
    "\n",
    "gs = GridSearchCV(SVD, grid, measures=['RMSE'], cv=5, n_jobs=2)\n",
    "gs.fit(data)\n",
    "\n",
    "print(gs.best_score['rmse'])\n",
    "print(gs.best_params['rmse'])"
   ]
  },
  {
   "cell_type": "code",
   "execution_count": 60,
   "id": "1911c2e6",
   "metadata": {},
   "outputs": [],
   "source": [
    "#select best algorithm\n",
    "svdtuned = gs.best_estimator['rmse']"
   ]
  },
  {
   "cell_type": "code",
   "execution_count": 61,
   "id": "79621499",
   "metadata": {},
   "outputs": [
    {
     "name": "stdout",
     "output_type": "stream",
     "text": [
      "Train RMSE:\n",
      "RMSE: 0.6533\n",
      "Test RMSE:\n",
      "RMSE: 0.8351\n",
      "CPU times: total: 3min 9s\n",
      "Wall time: 4min 43s\n"
     ]
    }
   ],
   "source": [
    "%%time\n",
    "\n",
    "#retrain whole train test (without fold)\n",
    "trainset = data.build_full_trainset()\n",
    "svdtuned.fit(trainset)\n",
    "\n",
    "# Compute RMSE on trainset (without fold)\n",
    "svdtuned_train_pred = svdtuned.test(trainset.build_testset())\n",
    "print('Train RMSE:')\n",
    "train_rmse = accuracy.rmse(svdtuned_train_pred)\n",
    "\n",
    "#compute RMSE on testset\n",
    "testset = data.construct_testset(test_ratings)\n",
    "svdtuned_test_pred = svdtuned.test(testset)\n",
    "print('Test RMSE:')\n",
    "test_rmse = accuracy.rmse(svdtuned_test_pred)"
   ]
  },
  {
   "cell_type": "code",
   "execution_count": 62,
   "id": "780f3770",
   "metadata": {},
   "outputs": [
    {
     "name": "stdout",
     "output_type": "stream",
     "text": [
      "CPU times: total: 2min 23s\n",
      "Wall time: 2min 39s\n"
     ]
    },
    {
     "data": {
      "text/plain": [
       "<surprise.prediction_algorithms.matrix_factorization.SVD at 0x1beb49721b0>"
      ]
     },
     "execution_count": 62,
     "metadata": {},
     "output_type": "execute_result"
    }
   ],
   "source": [
    "%%time\n",
    "\n",
    "data.raw_ratings = all_ratings\n",
    "svdtuned.fit(data.build_full_trainset())"
   ]
  },
  {
   "cell_type": "code",
   "execution_count": 63,
   "id": "8c533079",
   "metadata": {},
   "outputs": [],
   "source": [
    "def get_recommendation(user_id, n=5):\n",
    "    '''Give n recommendation to user_id'''\n",
    "    \n",
    "    all_books, user_books =  book_read(user_id)\n",
    "    next_books = [book for book in all_books if book not in user_books]\n",
    "    \n",
    "    if n <= len(next_books):\n",
    "        ratings = []\n",
    "        for book in next_books:\n",
    "            est = svdtuned.predict(user_id, book).est\n",
    "            ratings.append((book, est))\n",
    "        ratings = sorted(ratings, key=lambda x: x[1], reverse=True)\n",
    "        book_ids = [id for id, rate in ratings[:n]]\n",
    "        return b[b.book_id.isin(book_ids)][['book_id', 'title', 'authors', 'average_rating', 'ratings_count']]\n",
    "    else:\n",
    "        print('Please reduce your recommendation request')\n",
    "        return"
   ]
  },
  {
   "cell_type": "code",
   "execution_count": 64,
   "id": "b5bee8ca",
   "metadata": {},
   "outputs": [
    {
     "data": {
      "text/html": [
       "<div>\n",
       "<style scoped>\n",
       "    .dataframe tbody tr th:only-of-type {\n",
       "        vertical-align: middle;\n",
       "    }\n",
       "\n",
       "    .dataframe tbody tr th {\n",
       "        vertical-align: top;\n",
       "    }\n",
       "\n",
       "    .dataframe thead th {\n",
       "        text-align: right;\n",
       "    }\n",
       "</style>\n",
       "<table border=\"1\" class=\"dataframe\">\n",
       "  <thead>\n",
       "    <tr style=\"text-align: right;\">\n",
       "      <th></th>\n",
       "      <th>book_id</th>\n",
       "      <th>title</th>\n",
       "      <th>authors</th>\n",
       "      <th>average_rating</th>\n",
       "      <th>ratings_count</th>\n",
       "    </tr>\n",
       "  </thead>\n",
       "  <tbody>\n",
       "    <tr>\n",
       "      <th>810</th>\n",
       "      <td>862</td>\n",
       "      <td>Words of Radiance (The Stormlight Archive, #2)</td>\n",
       "      <td>Brandon Sanderson</td>\n",
       "      <td>4.77</td>\n",
       "      <td>73572</td>\n",
       "    </tr>\n",
       "    <tr>\n",
       "      <th>3353</th>\n",
       "      <td>3628</td>\n",
       "      <td>The Complete Calvin and Hobbes</td>\n",
       "      <td>Bill Watterson</td>\n",
       "      <td>4.82</td>\n",
       "      <td>28900</td>\n",
       "    </tr>\n",
       "    <tr>\n",
       "      <th>4977</th>\n",
       "      <td>5580</td>\n",
       "      <td>The Calvin and Hobbes Lazy Sunday Book</td>\n",
       "      <td>Bill Watterson</td>\n",
       "      <td>4.66</td>\n",
       "      <td>18641</td>\n",
       "    </tr>\n",
       "    <tr>\n",
       "      <th>6010</th>\n",
       "      <td>6902</td>\n",
       "      <td>Standing for Something: 10 Neglected Virtues T...</td>\n",
       "      <td>Gordon B. Hinckley</td>\n",
       "      <td>4.61</td>\n",
       "      <td>12708</td>\n",
       "    </tr>\n",
       "    <tr>\n",
       "      <th>6024</th>\n",
       "      <td>6920</td>\n",
       "      <td>The Indispensable Calvin and Hobbes</td>\n",
       "      <td>Bill Watterson</td>\n",
       "      <td>4.73</td>\n",
       "      <td>14597</td>\n",
       "    </tr>\n",
       "  </tbody>\n",
       "</table>\n",
       "</div>"
      ],
      "text/plain": [
       "      book_id                                              title  \\\n",
       "810       862     Words of Radiance (The Stormlight Archive, #2)   \n",
       "3353     3628                     The Complete Calvin and Hobbes   \n",
       "4977     5580             The Calvin and Hobbes Lazy Sunday Book   \n",
       "6010     6902  Standing for Something: 10 Neglected Virtues T...   \n",
       "6024     6920                The Indispensable Calvin and Hobbes   \n",
       "\n",
       "                 authors  average_rating  ratings_count  \n",
       "810    Brandon Sanderson            4.77          73572  \n",
       "3353      Bill Watterson            4.82          28900  \n",
       "4977      Bill Watterson            4.66          18641  \n",
       "6010  Gordon B. Hinckley            4.61          12708  \n",
       "6024      Bill Watterson            4.73          14597  "
      ]
     },
     "execution_count": 64,
     "metadata": {},
     "output_type": "execute_result"
    }
   ],
   "source": [
    "get_recommendation(12874, 5)"
   ]
  },
  {
   "cell_type": "code",
   "execution_count": 65,
   "id": "389f0fb9",
   "metadata": {},
   "outputs": [],
   "source": [
    "# uncomment this code to dump the calculation result for future use\n",
    "dump.dump('./models/dump_tuning', svdtuned_test_pred, svdtuned)"
   ]
  },
  {
   "cell_type": "code",
   "execution_count": 66,
   "id": "423286cb",
   "metadata": {},
   "outputs": [],
   "source": [
    "# uncomment this code to load the dump file\n",
    "svd_test_pred, svd = dump.load('./models/dump_svd')\n",
    "svdtuned_test_pred, svdtuned = dump.load('./models/dump_tuning')"
   ]
  },
  {
   "cell_type": "code",
   "execution_count": 67,
   "id": "57191450",
   "metadata": {},
   "outputs": [],
   "source": [
    "df_svd = pd.DataFrame(svd_test_pred, columns=['uid', 'iid', 'rui', 'est', 'details'])\n",
    "df_svdtuned = pd.DataFrame(svdtuned_test_pred, columns=['uid', 'iid', 'rui', 'est', 'details'])"
   ]
  },
  {
   "cell_type": "code",
   "execution_count": 68,
   "id": "748c4286",
   "metadata": {},
   "outputs": [
    {
     "data": {
      "image/png": "[encoded data removed]",
      "text/plain": [
       "<Figure size 800x600 with 1 Axes>"
      ]
     },
     "metadata": {},
     "output_type": "display_data"
    }
   ],
   "source": [
    "fig, ax = plt.subplots(figsize=(8,6))\n",
    "sns.kdeplot(df_svd['est'], shade=False, color='#92BA92', label = 'SVD', ax=ax)\n",
    "sns.kdeplot(df_svdtuned['est'], shade=False, color='#DEBA9D', label = 'Tuned SVD', ax=ax)\n",
    "ax.legend()\n",
    "plt.xlabel('Rating prediction')\n",
    "plt.ylabel('Density')\n",
    "plt.title('Comparison of rating estimation in SVD and Tuned SVD')\n",
    "plt.show()"
   ]
  },
  {
   "cell_type": "markdown",
   "id": "3fe3ab95",
   "metadata": {},
   "source": [
    "Rating prediction around the mean is higher in tuned SVD. This is probably as a result of higher `reg_all`, so the parameter are regularized."
   ]
  },
  {
   "cell_type": "markdown",
   "id": "a60eb841",
   "metadata": {},
   "source": [
    "## Conclusion"
   ]
  },
  {
   "cell_type": "markdown",
   "id": "409b2516",
   "metadata": {},
   "source": [
    "## Summary of Recommendation Models\n",
    "\n",
    "### 1. Simple Recommender\n",
    "\n",
    "This is a **basic model** that recommends books based on **popularity** (ratings count) and **average rating**.  \n",
    "It gives the **same suggestions to everyone** and does not personalize results.\n",
    "\n",
    "✅ Suitable for **new users** since it doesn’t rely on user history.  \n",
    "❌ Not personalized — can’t adapt to individual preferences.\n",
    "\n",
    "> 💡 *Cold-start problem*: This model **does not suffer** from it, since it doesn’t need any prior user data.\n",
    "\n",
    "---\n",
    "\n",
    "### 2. Content-Based Filtering\n",
    "\n",
    "This method recommends books that are **similar** to a book a user already liked.  \n",
    "It uses book **title, author, description, and genres**, and calculates **cosine similarity** between books.\n",
    "\n",
    "A popularity filter was added to ensure the recommendations are **reliable and well-rated**.\n",
    "\n",
    "✅ Good for users looking for books **similar to one they enjoyed**  \n",
    "✅ Works well even if user only provides **one book**  \n",
    "❌ Can’t recommend across genres or discover **new/unusual** preferences  \n",
    "❌ May repeat similar types of books\n",
    "\n",
    "---\n",
    "\n",
    "### 3. Collaborative Filtering\n",
    "\n",
    "Using the **Surprise library**, I tested 4 algorithms:\n",
    "- **Normal Predictor**\n",
    "- **KNN**\n",
    "- **SVD**\n",
    "- **SVD++**\n",
    "\n",
    "Among these, **SVD** worked best — it gave a **reasonable RMSE (~0.8)**, was **fast**, and **efficient in memory**.\n",
    "\n",
    "✅ Learns user preferences from **rating patterns**  \n",
    "✅ Doesn’t need item metadata (just ratings)  \n",
    "❌ Needs **historical data** — doesn’t work well with new users or books  \n",
    "❌ Suffers from the **cold-start problem**\n",
    "\n",
    "---\n",
    "\n",
    "Each method has its own strengths, and choosing the right one depends on the context and available data.\n"
   ]
  },
  {
   "cell_type": "code",
   "execution_count": null,
   "id": "586e9116-2617-435b-80ed-1f0e445757f3",
   "metadata": {},
   "outputs": [],
   "source": []
  }
 ],
 "metadata": {
  "kernelspec": {
   "display_name": "Python 3 (ipykernel)",
   "language": "python",
   "name": "python3"
  },
  "language_info": {
   "codemirror_mode": {
    "name": "ipython",
    "version": 3
   },
   "file_extension": ".py",
   "mimetype": "text/x-python",
   "name": "python",
   "nbconvert_exporter": "python",
   "pygments_lexer": "ipython3",
   "version": "3.12.7"
  }
 },
 "nbformat": 4,
 "nbformat_minor": 5
}
